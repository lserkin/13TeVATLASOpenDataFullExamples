{
 "cells": [
  {
   "cell_type": "markdown",
   "metadata": {},
   "source": [
    "<CENTER><img src=\"http://opendata.atlas.cern/DataAndTools/pictures/ATLASOD.gif\" style=\"width:50%\"></CENTER>"
   ]
  },
  {
   "cell_type": "markdown",
   "metadata": {},
   "source": [
    "<CENTER><h1>Get running the full Hyy analysis using the 13 TeV dataset"
   ]
  },
  {
   "cell_type": "markdown",
   "metadata": {},
   "source": [
    "**Introduction**\n",
    "We will run the full Hyy analysis using the 13 TeV dataset online!"
   ]
  },
  {
   "cell_type": "code",
   "execution_count": 3,
   "metadata": {},
   "outputs": [],
   "source": [
    "import os\n",
    "import datetime"
   ]
  },
  {
   "cell_type": "code",
   "execution_count": 4,
   "metadata": {},
   "outputs": [
    {
     "name": "stdout",
     "output_type": "stream",
     "text": [
      "Wed Feb 19 23:59:54 CET 2020\n",
      "\n"
     ]
    }
   ],
   "source": [
    "starttime = datetime.datetime.now()\n",
    "\n",
    "myCmd = os.popen('date').read()\n",
    "print(myCmd)"
   ]
  },
  {
   "cell_type": "markdown",
   "metadata": {},
   "source": [
    "##  First, we will download from github the 13 TeV C++ analysis software\n",
    "Create a folder where the git clone will be stored"
   ]
  },
  {
   "cell_type": "code",
   "execution_count": 5,
   "metadata": {},
   "outputs": [],
   "source": [
    "folder_demo = 'atlas-demo-Hyy'"
   ]
  },
  {
   "cell_type": "code",
   "execution_count": 6,
   "metadata": {},
   "outputs": [
    {
     "data": {
      "text/plain": [
       "0"
      ]
     },
     "execution_count": 6,
     "metadata": {},
     "output_type": "execute_result"
    }
   ],
   "source": [
    "command1 = 'mkdir '+folder_demo\n",
    "os.system(command1)"
   ]
  },
  {
   "cell_type": "markdown",
   "metadata": {},
   "source": [
    "Show the contents in the current folder, and checck your new folder is there"
   ]
  },
  {
   "cell_type": "code",
   "execution_count": 7,
   "metadata": {},
   "outputs": [
    {
     "name": "stdout",
     "output_type": "stream",
     "text": [
      "total 56K\n",
      "-rw-r--r--. 1 lserkin 1307  13K Feb 19 23:58 demo-CHEP-2019-HZZ-cern.ipynb\n",
      "-rw-r--r--. 1 lserkin 1307  14K Feb 19 23:58 demo-CHEP-2019-HZZ-web.ipynb\n",
      "-rw-r--r--. 1 lserkin 1307  13K Feb 19 23:58 demo-CHEP-2019-Hyy-web.ipynb\n",
      "-rw-r--r--. 1 lserkin 1307  12K Feb 19 23:58 demo-CHEP-2019-Hyy-cern.ipynb\n",
      "drwxr-xr-x. 2 lserkin 1307 4.0K Feb 20 00:00 atlas-demo-Hyy\n",
      "\n"
     ]
    }
   ],
   "source": [
    "myCmd = os.popen('ls -lhrt').read()\n",
    "print(myCmd)"
   ]
  },
  {
   "cell_type": "markdown",
   "metadata": {},
   "source": [
    "Print the current path/location"
   ]
  },
  {
   "cell_type": "code",
   "execution_count": 8,
   "metadata": {},
   "outputs": [
    {
     "name": "stdout",
     "output_type": "stream",
     "text": [
      "/eos/home-l/lserkin/SWAN_projects/CERN_Summer_Student_demo_201915/notebooks\n",
      "\n"
     ]
    }
   ],
   "source": [
    "myCmd = os.popen('pwd').read()\n",
    "print(myCmd)"
   ]
  },
  {
   "cell_type": "markdown",
   "metadata": {},
   "source": [
    "Get into the folder which we just created"
   ]
  },
  {
   "cell_type": "code",
   "execution_count": 9,
   "metadata": {},
   "outputs": [],
   "source": [
    "os.chdir(folder_demo+\"/\")"
   ]
  },
  {
   "cell_type": "markdown",
   "metadata": {},
   "source": [
    "Print the current path and check that you are really there"
   ]
  },
  {
   "cell_type": "code",
   "execution_count": 10,
   "metadata": {},
   "outputs": [
    {
     "name": "stdout",
     "output_type": "stream",
     "text": [
      "/eos/home-l/lserkin/SWAN_projects/CERN_Summer_Student_demo_201915/notebooks/atlas-demo-Hyy\n",
      "\n"
     ]
    }
   ],
   "source": [
    "myCmd = os.popen('pwd').read()\n",
    "print(myCmd)"
   ]
  },
  {
   "cell_type": "markdown",
   "metadata": {},
   "source": [
    "Clone the analysis code **(do this only once!)**"
   ]
  },
  {
   "cell_type": "code",
   "execution_count": 11,
   "metadata": {},
   "outputs": [
    {
     "name": "stdout",
     "output_type": "stream",
     "text": [
      "Cloning into 'atlas-outreach-cpp-framework-13tev'...\n",
      "\n"
     ]
    }
   ],
   "source": [
    "myCmd = os.popen('git clone https://github.com/atlas-outreach-data-tools/atlas-outreach-cpp-framework-13tev.git').read()\n",
    "print(myCmd)"
   ]
  },
  {
   "cell_type": "markdown",
   "metadata": {},
   "source": [
    "Get into the folder which contains the analysis code"
   ]
  },
  {
   "cell_type": "code",
   "execution_count": 12,
   "metadata": {},
   "outputs": [],
   "source": [
    "os.chdir(\"atlas-outreach-cpp-framework-13tev/\")"
   ]
  },
  {
   "cell_type": "markdown",
   "metadata": {},
   "source": [
    "Print the current path and check that you are really there"
   ]
  },
  {
   "cell_type": "code",
   "execution_count": 14,
   "metadata": {},
   "outputs": [
    {
     "name": "stdout",
     "output_type": "stream",
     "text": [
      "/eos/home-l/lserkin/SWAN_projects/CERN_Summer_Student_demo_201915/notebooks/atlas-demo-Hyy/atlas-outreach-cpp-framework-13tev\n",
      "\n"
     ]
    }
   ],
   "source": [
    "myCmd = os.popen('pwd').read()\n",
    "print(myCmd)"
   ]
  },
  {
   "cell_type": "code",
   "execution_count": 15,
   "metadata": {},
   "outputs": [
    {
     "name": "stdout",
     "output_type": "stream",
     "text": [
      "total 21K\n",
      "-rw-r--r--. 1 lserkin 1307  11K Feb 20 00:01 README.md\n",
      "-rwxr-xr-x. 1 lserkin 1307 1.7K Feb 20 00:01 welcome.sh\n",
      "drwxr-xr-x. 2 lserkin 1307 4.0K Feb 20 00:01 Analysis\n",
      "drwxr-xr-x. 2 lserkin 1307 4.0K Feb 20 00:01 Plotting\n",
      "\n"
     ]
    }
   ],
   "source": [
    "myCmd = os.popen('ls -lhrt').read()\n",
    "print(myCmd)"
   ]
  },
  {
   "cell_type": "markdown",
   "metadata": {},
   "source": [
    "let's create the output folders **(do this only the first time with option 1)**"
   ]
  },
  {
   "cell_type": "code",
   "execution_count": 16,
   "metadata": {},
   "outputs": [
    {
     "data": {
      "text/plain": [
       "0"
      ]
     },
     "execution_count": 16,
     "metadata": {},
     "output_type": "execute_result"
    }
   ],
   "source": [
    "command3 = \"echo \\\"1\\\" | ./welcome.sh\"\n",
    "os.system(command3)"
   ]
  },
  {
   "cell_type": "markdown",
   "metadata": {},
   "source": [
    "### Let's run the Hyy physics analysis\n",
    "\n",
    "#### From the list below, we will selection the proper HyyAnalysis option:"
   ]
  },
  {
   "cell_type": "code",
   "execution_count": 17,
   "metadata": {},
   "outputs": [],
   "source": [
    "#analysis=\"HWWAnalysis\"\n",
    "analysis=\"HyyAnalysis\"\n",
    "#analysis=\"HZZAnalysis\"\n",
    "#analysis=\"SingleTopAnalysis\"\n",
    "#analysis=\"SUSYAnalysis\"\n",
    "#analysis=\"TTbarAnalysis\"\n",
    "#analysis=\"WBosonAnalysis\"\n",
    "#analysis=\"WZDiBosonAnalysis\"\n",
    "#analysis=\"ZBosonAnalysis\"\n",
    "#analysis=\"ZPrimeBoostedAnalysis\"\n",
    "#analysis=\"ZTauTauAnalysis\"\n",
    "#analysis=\"ZZDiBosonAnalysis\""
   ]
  },
  {
   "cell_type": "code",
   "execution_count": 18,
   "metadata": {},
   "outputs": [],
   "source": [
    "os.chdir(\"Analysis/\"+analysis)"
   ]
  },
  {
   "cell_type": "code",
   "execution_count": 19,
   "metadata": {
    "scrolled": true
   },
   "outputs": [
    {
     "name": "stdout",
     "output_type": "stream",
     "text": [
      "/eos/home-l/lserkin/SWAN_projects/CERN_Summer_Student_demo_201915/notebooks/atlas-demo-Hyy/atlas-outreach-cpp-framework-13tev/Analysis/HyyAnalysis\n",
      "\n"
     ]
    }
   ],
   "source": [
    "myCmd = os.popen('pwd').read()\n",
    "print(myCmd)"
   ]
  },
  {
   "cell_type": "markdown",
   "metadata": {},
   "source": [
    "### Now, we will execute the C++ analysis code. Be careful: it will take some time!"
   ]
  },
  {
   "cell_type": "code",
   "execution_count": 20,
   "metadata": {},
   "outputs": [
    {
     "data": {
      "text/plain": [
       "0"
      ]
     },
     "execution_count": 20,
     "metadata": {},
     "output_type": "execute_result"
    }
   ],
   "source": [
    "command4 = \"./run_web.sh\"\n",
    "os.system(command4)"
   ]
  },
  {
   "cell_type": "markdown",
   "metadata": {},
   "source": [
    "#### Now the code is done (I hope you see a 0 as output :)"
   ]
  },
  {
   "cell_type": "code",
   "execution_count": 31,
   "metadata": {},
   "outputs": [
    {
     "name": "stdout",
     "output_type": "stream",
     "text": [
      "\n"
     ]
    }
   ],
   "source": [
    "myCmd = os.popen('ls -lhrt Output_HyyAnalysis/*.root').read()\n",
    "print(myCmd)"
   ]
  },
  {
   "cell_type": "code",
   "execution_count": 32,
   "metadata": {},
   "outputs": [
    {
     "name": "stdout",
     "output_type": "stream",
     "text": [
      "/eos/home-l/lserkin/SWAN_projects/CERN_Summer_Student_demo_201915/notebooks/atlas-demo-Hyy/atlas-outreach-cpp-framework-13tev/Plotting\n",
      "\n"
     ]
    }
   ],
   "source": [
    "myCmd = os.popen('pwd').read()\n",
    "print(myCmd)"
   ]
  },
  {
   "cell_type": "code",
   "execution_count": 23,
   "metadata": {},
   "outputs": [
    {
     "name": "stdout",
     "output_type": "stream",
     "text": [
      "total 33K\n",
      "-rw-r--r--. 1 lserkin 1307 4.6K Feb 20 00:05 data.root\n",
      "-rw-r--r--. 1 lserkin 1307 5.2K Feb 20 00:05 ggH125_gamgam.root\n",
      "-rw-r--r--. 1 lserkin 1307 5.2K Feb 20 00:06 VBFH125_gamgam.root\n",
      "-rw-r--r--. 1 lserkin 1307 5.1K Feb 20 00:06 WH125_gamgam.root\n",
      "-rw-r--r--. 1 lserkin 1307 5.2K Feb 20 00:06 ZH125_gamgam.root\n",
      "-rw-r--r--. 1 lserkin 1307 5.2K Feb 20 00:06 ttH125_gamgam.root\n",
      "\n"
     ]
    }
   ],
   "source": [
    "myCmd = os.popen('ls -lhrt').read()\n",
    "print(myCmd)"
   ]
  },
  {
   "cell_type": "code",
   "execution_count": 24,
   "metadata": {},
   "outputs": [],
   "source": [
    "os.chdir(\"../../../Plotting/\")"
   ]
  },
  {
   "cell_type": "code",
   "execution_count": 33,
   "metadata": {},
   "outputs": [
    {
     "name": "stdout",
     "output_type": "stream",
     "text": [
      "/eos/home-l/lserkin/SWAN_projects/CERN_Summer_Student_demo_201915/notebooks/atlas-demo-Hyy/atlas-outreach-cpp-framework-13tev/Plotting\n",
      "\n"
     ]
    }
   ],
   "source": [
    "myCmd = os.popen('pwd').read()\n",
    "print(myCmd)"
   ]
  },
  {
   "cell_type": "code",
   "execution_count": 34,
   "metadata": {},
   "outputs": [
    {
     "name": "stdout",
     "output_type": "stream",
     "text": [
      "total 389K\n",
      "-rw-r--r--. 1 lserkin 1307  600 Feb 20 00:00 Makefile\n",
      "-rw-r--r--. 1 lserkin 1307  88K Feb 20 00:00 Plotting.cxx\n",
      "-rw-r--r--. 1 lserkin 1307 1.7K Feb 20 00:00 Plotting.h\n",
      "-rwxr-xr-x. 1 lserkin 1307  173 Feb 20 00:00 clean.sh\n",
      "-rwxr-xr-x. 1 lserkin 1307 2.7K Feb 20 00:01 plotme.sh\n",
      "-rwxr-xr-x. 1 lserkin 1307 2.3K Feb 20 00:01 plotme_web.sh\n",
      "drwxr-xr-x. 2 lserkin 1307 4.0K Feb 20 00:01 inputfiles\n",
      "drwxr-xr-x. 2 lserkin 1307 4.0K Feb 20 00:01 list_histos\n",
      "-rw-r--r--. 1 lserkin 1307  16K Feb 20 00:09 Plotting_cxx.d\n",
      "-rw-r--r--. 1 lserkin 1307 2.7K Feb 20 00:09 Plotting_cxx_ACLiC_dict_rdict.pcm\n",
      "-rwxr-xr-x. 1 lserkin 1307 262K Feb 20 00:09 Plotting_cxx.so\n",
      "drwxr-xr-x. 2 lserkin 1307 4.0K Feb 20 00:09 histograms\n",
      "\n"
     ]
    }
   ],
   "source": [
    "myCmd = os.popen('ls -lhrt').read()\n",
    "print(myCmd)"
   ]
  },
  {
   "cell_type": "markdown",
   "metadata": {},
   "source": [
    "### Let's run the Plotting code\n",
    "### Select the right analysis\n",
    "#### The options are:\n",
    "0 = WBosonAnalysis\n",
    "\n",
    "1 = ZBosonAnalysis\n",
    "\n",
    "2 = TTbarAnalysis\n",
    "\n",
    "3 = SingleTopAnalysis\n",
    "\n",
    "4 = WZDiBosonAnalysis\n",
    "\n",
    "5 = ZZDiBosonAnalysis\n",
    "\n",
    "6 = HWWAnalysis\n",
    "\n",
    "7 = HZZAnalysis\n",
    "\n",
    "8 = ZTauTauAnalysis\n",
    "\n",
    "9 = HyyAnalysis\n",
    "\n",
    "10 = SUSYAnalysis\n",
    "\n",
    "11 = ZPrimeBoostedAnalysis"
   ]
  },
  {
   "cell_type": "code",
   "execution_count": 28,
   "metadata": {},
   "outputs": [
    {
     "data": {
      "text/plain": [
       "0"
      ]
     },
     "execution_count": 28,
     "metadata": {},
     "output_type": "execute_result"
    }
   ],
   "source": [
    "command5 = \"echo \\\"9\\n0\\\" | ./plotme_web.sh\"\n",
    "os.system(command5)"
   ]
  },
  {
   "cell_type": "code",
   "execution_count": 35,
   "metadata": {},
   "outputs": [
    {
     "name": "stdout",
     "output_type": "stream",
     "text": [
      "-rw-r--r--. 1 lserkin 1307 27K Feb 20 00:09 histograms/hist_mYY_bin1.png\n",
      "-rw-r--r--. 1 lserkin 1307 31K Feb 20 00:09 histograms/hist_mYY_cat_bin1.png\n",
      "\n"
     ]
    }
   ],
   "source": [
    "myCmd = os.popen('ls -lhrt histograms/*png').read()\n",
    "print(myCmd)"
   ]
  },
  {
   "cell_type": "markdown",
   "metadata": {},
   "source": [
    "<CENTER>\n",
    "    <h2> The two photons invariant mass </h2>\n",
    "    <img src=\"atlas-demo-Hyy/atlas-outreach-cpp-framework-13tev/Plotting/histograms/hist_mYY_bin1.png\"  alt=\"mass\" width=\"700\" height=\"400\">\n",
    "</CENTER>"
   ]
  },
  {
   "cell_type": "code",
   "execution_count": 36,
   "metadata": {},
   "outputs": [
    {
     "name": "stdout",
     "output_type": "stream",
     "text": [
      "Thu Feb 20 00:11:34 CET 2020\n",
      "\n",
      "Analysis finished in 11 min 40 s\n"
     ]
    }
   ],
   "source": [
    "myCmd = os.popen('date').read()\n",
    "print(myCmd)\n",
    "endtime = datetime.datetime.now()\n",
    "print(\"Analysis finished in {} min {} s\").format(((endtime - starttime).seconds)/60,((endtime - starttime).seconds)%60)"
   ]
  },
  {
   "cell_type": "markdown",
   "metadata": {},
   "source": [
    "### Done!"
   ]
  },
  {
   "cell_type": "code",
   "execution_count": null,
   "metadata": {},
   "outputs": [],
   "source": []
  }
 ],
 "metadata": {
  "kernelspec": {
   "display_name": "Python 2",
   "language": "python",
   "name": "python2"
  },
  "language_info": {
   "codemirror_mode": {
    "name": "ipython",
    "version": 2
   },
   "file_extension": ".py",
   "mimetype": "text/x-python",
   "name": "python",
   "nbconvert_exporter": "python",
   "pygments_lexer": "ipython2",
   "version": "2.7.16"
  }
 },
 "nbformat": 4,
 "nbformat_minor": 1
}
